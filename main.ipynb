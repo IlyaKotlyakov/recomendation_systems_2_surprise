{
 "cells": [
  {
   "cell_type": "code",
   "execution_count": 1,
   "metadata": {},
   "outputs": [],
   "source": [
    "import io \n",
    "import pandas as pd\n",
    "from collections import defaultdict\n",
    "from surprise import Dataset\n",
    "from surprise import NormalPredictor\n",
    "from surprise import SVD\n",
    "from surprise import KNNWithMeans\n",
    "from surprise import get_dataset_dir\n",
    "from surprise.model_selection import cross_validate\n",
    "from surprise.model_selection import train_test_split"
   ]
  },
  {
   "cell_type": "code",
   "execution_count": 2,
   "metadata": {},
   "outputs": [],
   "source": [
    "data = Dataset.load_builtin('ml-100k')\n",
    "K = 30\n",
    "trainset, testset = train_test_split(data, test_size=.25)"
   ]
  },
  {
   "cell_type": "code",
   "execution_count": 3,
   "metadata": {},
   "outputs": [],
   "source": [
    "# ассоциативный массив (названия алгоритмов - ключи, функиции - значения)\n",
    "algorithms = {\n",
    "    \"NP\": NormalPredictor(),\n",
    "    \"KNN_cos\": KNNWithMeans(k = K, sim_options = { 'name': 'cosine' }),\n",
    "    \"KNN_MSD\": KNNWithMeans(k = K),\n",
    "    \"KNN_Pearson\": KNNWithMeans(k = K, sim_options = { 'name': 'pearson' }),\n",
    "    \"SVD\" : SVD()\n",
    "}\n",
    "RSMA = {}"
   ]
  },
  {
   "cell_type": "code",
   "execution_count": 4,
   "metadata": {},
   "outputs": [
    {
     "name": "stdout",
     "output_type": "stream",
     "text": [
      "Computing the cosine similarity matrix...\n",
      "Done computing similarity matrix.\n",
      "Computing the cosine similarity matrix...\n",
      "Done computing similarity matrix.\n",
      "Computing the cosine similarity matrix...\n",
      "Done computing similarity matrix.\n",
      "Computing the cosine similarity matrix...\n",
      "Done computing similarity matrix.\n",
      "Computing the cosine similarity matrix...\n",
      "Done computing similarity matrix.\n",
      "Computing the msd similarity matrix...\n",
      "Done computing similarity matrix.\n",
      "Computing the msd similarity matrix...\n",
      "Done computing similarity matrix.\n",
      "Computing the msd similarity matrix...\n",
      "Done computing similarity matrix.\n",
      "Computing the msd similarity matrix...\n",
      "Done computing similarity matrix.\n",
      "Computing the msd similarity matrix...\n",
      "Done computing similarity matrix.\n",
      "Computing the pearson similarity matrix...\n",
      "Done computing similarity matrix.\n",
      "Computing the pearson similarity matrix...\n",
      "Done computing similarity matrix.\n",
      "Computing the pearson similarity matrix...\n",
      "Done computing similarity matrix.\n",
      "Computing the pearson similarity matrix...\n",
      "Done computing similarity matrix.\n",
      "Computing the pearson similarity matrix...\n",
      "Done computing similarity matrix.\n"
     ]
    }
   ],
   "source": [
    "# для каждого алгоритма с помошбю функции cross_validate оцениваем метрику RMSE (среднеквадратичную ошибку модели)\n",
    "for [name, algo] in algorithms.items():\n",
    "    crv = cross_validate(algo, data, measures=['RMSE'], verbose=False)\n",
    "    RSMA[name] = round(crv['test_rmse'].mean(), 3)"
   ]
  },
  {
   "cell_type": "code",
   "execution_count": 5,
   "metadata": {},
   "outputs": [
    {
     "name": "stdout",
     "output_type": "stream",
     "text": [
      "{'NP': 1.522, 'KNN_cos': 0.958, 'KNN_MSD': 0.953, 'KNN_Pearson': 0.951, 'SVD': 0.935}\n",
      "SVD\n",
      "user: 181        item: 149        r_ui = 1.00   est = 1.49   {'was_impossible': False}\n",
      "user: 62         item: 162        r_ui = 4.00   est = 3.17   {'was_impossible': False}\n",
      "user: 311        item: 306        r_ui = 4.00   est = 4.08   {'was_impossible': False}\n",
      "user: 612        item: 924        r_ui = 5.00   est = 3.32   {'was_impossible': False}\n",
      "user: 886        item: 483        r_ui = 4.00   est = 4.10   {'was_impossible': False}\n",
      "user: 747        item: 290        r_ui = 3.00   est = 3.67   {'was_impossible': False}\n",
      "user: 823        item: 181        r_ui = 4.00   est = 4.19   {'was_impossible': False}\n",
      "user: 256        item: 203        r_ui = 4.00   est = 4.31   {'was_impossible': False}\n",
      "user: 752        item: 887        r_ui = 1.00   est = 3.46   {'was_impossible': False}\n",
      "user: 13         item: 37         r_ui = 1.00   est = 2.53   {'was_impossible': False}\n"
     ]
    }
   ],
   "source": [
    "# выберем среди всех алгоритмов лучший\n",
    "print(RSMA)\n",
    "bestAlgoName = min(RSMA.items(), key=lambda x: x[1])[0]\n",
    "print(bestAlgoName)\n",
    "bestAlgo = algorithms[bestAlgoName]\n",
    "# тренируем алгоритм на тренировочном наборе данных, даём предсказание для тестового\n",
    "bestAlgo.fit(trainset)\n",
    "predictions = bestAlgo.test(testset)\n",
    "for prediction in predictions[:10]:\n",
    "    print(prediction)"
   ]
  },
  {
   "cell_type": "code",
   "execution_count": 6,
   "metadata": {},
   "outputs": [
    {
     "name": "stdout",
     "output_type": "stream",
     "text": [
      "0.7313850513637977\n",
      "0.3690797047850928\n"
     ]
    }
   ],
   "source": [
    "# посчитаем метрики precision@k and recall@k для k=5 и порога отсечения 3.52\n",
    "# https://github.com/NicolasHug/Surprise/blob/master/examples/precision_recall_at_k.py - готовая функция\n",
    "# precision@k - отношение релевантных и рекомендованных фильмов, к количеству рекомендованных фильмов\n",
    "# recall@k - отношение релевантных и рекомендованных фильмов, к количеству релевантных (тех, которые человек захочет посмотреть) фильмов\n",
    "def precision_recall_at_k(predictions, k = 5, threshold = 3.52):\n",
    "    \"\"\"Return precision and recall at k metrics for each user\"\"\"\n",
    "\n",
    "    # First map the predictions to each user.\n",
    "    user_est_true = defaultdict(list)\n",
    "    for uid, _, true_r, est, _ in predictions:\n",
    "        user_est_true[uid].append((est, true_r))\n",
    "\n",
    "    precisions = dict()\n",
    "    recalls = dict()\n",
    "    for uid, user_ratings in user_est_true.items():\n",
    "\n",
    "        # Sort user ratings by estimated value\n",
    "        user_ratings.sort(key=lambda x: x[0], reverse=True)\n",
    "\n",
    "        # Number of relevant items\n",
    "        n_rel = sum((true_r >= threshold) for (_, true_r) in user_ratings)\n",
    "\n",
    "        # Number of recommended items in top k\n",
    "        n_rec_k = sum((est >= threshold) for (est, _) in user_ratings[:k])\n",
    "\n",
    "        # Number of relevant and recommended items in top k\n",
    "        n_rel_and_rec_k = sum(((true_r >= threshold) and (est >= threshold))\n",
    "                              for (est, true_r) in user_ratings[:k])\n",
    "\n",
    "        # Precision@K: Proportion of recommended items that are relevant\n",
    "        # When n_rec_k is 0, Precision is undefined. We here set it to 0.\n",
    "\n",
    "        precisions[uid] = n_rel_and_rec_k / n_rec_k if n_rec_k != 0 else 0\n",
    "\n",
    "        # Recall@K: Proportion of relevant items that are recommended\n",
    "        # When n_rel is 0, Recall is undefined. We here set it to 0.\n",
    "\n",
    "        recalls[uid] = n_rel_and_rec_k / n_rel if n_rel != 0 else 0\n",
    "\n",
    "    return precisions, recalls\n",
    "\n",
    "precisions, recalls = precision_recall_at_k(predictions, k=5, threshold=3.52)\n",
    "\n",
    "# усредняем по всем пользователям\n",
    "precision_at_k = sum(prec for prec in precisions.values()) / len(precisions)\n",
    "recall_at_k = sum(rec for rec in recalls.values()) / len(recalls)\n",
    "print(precision_at_k)\n",
    "print(recall_at_k)"
   ]
  },
  {
   "cell_type": "code",
   "execution_count": 7,
   "metadata": {},
   "outputs": [
    {
     "data": {
      "text/plain": [
       "[Prediction(uid='14', iid='357', r_ui=2.0, est=4.803061260214853, details={'was_impossible': False}),\n",
       " Prediction(uid='14', iid='56', r_ui=5.0, est=4.621248325365345, details={'was_impossible': False}),\n",
       " Prediction(uid='14', iid='12', r_ui=5.0, est=4.591464973946043, details={'was_impossible': False}),\n",
       " Prediction(uid='14', iid='922', r_ui=4.0, est=4.572051051152667, details={'was_impossible': False}),\n",
       " Prediction(uid='14', iid='100', r_ui=5.0, est=4.5694213748946595, details={'was_impossible': False})]"
      ]
     },
     "execution_count": 7,
     "metadata": {},
     "output_type": "execute_result"
    }
   ],
   "source": [
    "# получим рекомендации для человека 14\n",
    "USER_INDEX = '14'\n",
    "N = 5\n",
    "userPredictions = list(filter(lambda x: x.uid == USER_INDEX, predictions))\n",
    "top = sorted(userPredictions, key=lambda x: x.est, reverse=True)[0:N]\n",
    "top"
   ]
  },
  {
   "cell_type": "code",
   "execution_count": 8,
   "metadata": {},
   "outputs": [
    {
     "name": "stdout",
     "output_type": "stream",
     "text": [
      "['357', '56', '12', '922', '100']\n",
      "{'357': ('Spawn (1997)', '01-Aug-1997'), '56': ('Priest (1994)', '01-Jan-1994'), '12': ('Mighty Aphrodite (1995)', '30-Oct-1995'), '922': ('Raise the Red Lantern (1991)', '01-Jan-1991'), '100': ('Heavy Metal (1981)', '08-Mar-1981')}\n"
     ]
    }
   ],
   "source": [
    "# получим информацию о рекомендованных фильмах по их id\n",
    "def getInfoForList(l):\n",
    "    print(l)\n",
    "    data_path = get_dataset_dir() + '/ml-100k/ml-100k/u.item'\n",
    "    info = {}\n",
    "    data = pd.read_csv(data_path, sep='|',encoding='ISO-8859-1', header = None) \n",
    "    for id in l:\n",
    "        row = data.iloc[int(id)]\n",
    "        info[id] = (row[1], row[2])\n",
    "\n",
    "    return info\n",
    "info = getInfoForList(list(map(lambda x: x.iid, top)))\n",
    "print(info)"
   ]
  },
  {
   "cell_type": "code",
   "execution_count": 8,
   "metadata": {},
   "outputs": [
    {
     "name": "stdout",
     "output_type": "stream",
     "text": [
      "User 14\n",
      "50, ('Legends of the Fall (1994)', '01-Jan-1994'), 4.775\n",
      "172, ('Princess Bride, The (1987)', '01-Jan-1987'), 4.724\n",
      "176, ('Good, The Bad and The Ugly, The (1966)', '01-Jan-1966'), 4.651\n",
      "603, ('It Happened One Night (1934)', '01-Jan-1934'), 4.545\n",
      "127, ('Supercop (1992)', '26-Jul-1996'), 4.533\n"
     ]
    }
   ],
   "source": [
    "# выведем результат\n",
    "print('User {}'.format(USER_INDEX))\n",
    "for pred in top:\n",
    "    print('{}, {}, {}'.format(pred.iid, info[pred.iid], round(pred.est, 3)))"
   ]
  },
  {
   "cell_type": "code",
   "execution_count": null,
   "metadata": {},
   "outputs": [],
   "source": []
  }
 ],
 "metadata": {
  "kernelspec": {
   "display_name": "Python 3",
   "language": "python",
   "name": "python3"
  },
  "language_info": {
   "codemirror_mode": {
    "name": "ipython",
    "version": 3
   },
   "file_extension": ".py",
   "mimetype": "text/x-python",
   "name": "python",
   "nbconvert_exporter": "python",
   "pygments_lexer": "ipython3",
   "version": "3.8.5"
  }
 },
 "nbformat": 4,
 "nbformat_minor": 4
}
